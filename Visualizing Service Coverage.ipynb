{
 "cells": [
  {
   "cell_type": "markdown",
   "metadata": {},
   "source": [
    "# Visualizing Fleet Distances\n"
   ]
  },
  {
   "cell_type": "markdown",
   "metadata": {},
   "source": [
    "I was having discussion with friend about how one could visualize the geographical coverage of a service fleet for a known set of customers.  For example, if set A is a set of students and B is a set of tutors, we are interested in being able to plot areas which are lacking a good student to tutor ratio, given expected reasonable threshold of distance for the student to travel to get to the tutor."
   ]
  },
  {
   "cell_type": "code",
   "execution_count": 4,
   "metadata": {},
   "outputs": [],
   "source": [
    "import pandas as pd\n",
    "from numpy.random import rand\n",
    "import numpy as np\n",
    "import matplotlib.pyplot as plt\n",
    "from matplotlib import  cm\n",
    "\n",
    "%matplotlib inline"
   ]
  },
  {
   "cell_type": "markdown",
   "metadata": {},
   "source": [
    "### Make a sample set of customers and providers\n",
    "\n",
    "Lets make some fake data sets. For simplicity, I'm just going to work with cartesian coordinates, but if you had real data it would be easy to transition this into latitude longitude."
   ]
  },
  {
   "cell_type": "code",
   "execution_count": 5,
   "metadata": {},
   "outputs": [],
   "source": [
    "def create_data(n, xrange, yrange):\n",
    "    \"\"\" A function to create a dummy data set for plotting \"\"\"\n",
    "    return pd.DataFrame({\"x\":rand(n)*yrange, \"y\":rand(n)*xrange,'name':range(n)})"
   ]
  },
  {
   "cell_type": "code",
   "execution_count": 36,
   "metadata": {},
   "outputs": [],
   "source": [
    "xrange=10\n",
    "yrange=10\n",
    "C = create_data(10,xrange,yrange)\n",
    "P = create_data(20,xrange,yrange)"
   ]
  },
  {
   "cell_type": "code",
   "execution_count": 37,
   "metadata": {},
   "outputs": [
    {
     "data": {
      "text/html": [
       "<div>\n",
       "<style>\n",
       "    .dataframe thead tr:only-child th {\n",
       "        text-align: right;\n",
       "    }\n",
       "\n",
       "    .dataframe thead th {\n",
       "        text-align: left;\n",
       "    }\n",
       "\n",
       "    .dataframe tbody tr th {\n",
       "        vertical-align: top;\n",
       "    }\n",
       "</style>\n",
       "<table border=\"1\" class=\"dataframe\">\n",
       "  <thead>\n",
       "    <tr style=\"text-align: right;\">\n",
       "      <th></th>\n",
       "      <th>name</th>\n",
       "      <th>x</th>\n",
       "      <th>y</th>\n",
       "    </tr>\n",
       "  </thead>\n",
       "  <tbody>\n",
       "    <tr>\n",
       "      <th>0</th>\n",
       "      <td>0</td>\n",
       "      <td>3.163295</td>\n",
       "      <td>3.537100</td>\n",
       "    </tr>\n",
       "    <tr>\n",
       "      <th>1</th>\n",
       "      <td>1</td>\n",
       "      <td>3.533921</td>\n",
       "      <td>1.471155</td>\n",
       "    </tr>\n",
       "    <tr>\n",
       "      <th>2</th>\n",
       "      <td>2</td>\n",
       "      <td>3.756294</td>\n",
       "      <td>2.340282</td>\n",
       "    </tr>\n",
       "    <tr>\n",
       "      <th>3</th>\n",
       "      <td>3</td>\n",
       "      <td>6.698368</td>\n",
       "      <td>4.051499</td>\n",
       "    </tr>\n",
       "    <tr>\n",
       "      <th>4</th>\n",
       "      <td>4</td>\n",
       "      <td>0.864397</td>\n",
       "      <td>1.279402</td>\n",
       "    </tr>\n",
       "  </tbody>\n",
       "</table>\n",
       "</div>"
      ],
      "text/plain": [
       "   name         x         y\n",
       "0     0  3.163295  3.537100\n",
       "1     1  3.533921  1.471155\n",
       "2     2  3.756294  2.340282\n",
       "3     3  6.698368  4.051499\n",
       "4     4  0.864397  1.279402"
      ]
     },
     "execution_count": 37,
     "metadata": {},
     "output_type": "execute_result"
    }
   ],
   "source": [
    "C.head()"
   ]
  },
  {
   "cell_type": "markdown",
   "metadata": {},
   "source": [
    "### Create gridded summary of density\n",
    "We can summarize the density of the customers or providers in each area by generating a grid for the area of interest at a resolution of our choice, and then counting the providers or customers within a threshold of those points. Note that the choice of the number of gridpoints should probably result in a resolution of at most half of the desired distance threshold to have a meaningful plot."
   ]
  },
  {
   "cell_type": "code",
   "execution_count": 38,
   "metadata": {},
   "outputs": [],
   "source": [
    "gridpoints = 50\n",
    "\n",
    "# The x and y coodinates of the grid\n",
    "X,Y = np.meshgrid(np.linspace(0,xrange,gridpoints),np.linspace(0,yrange,gridpoints))\n",
    "\n",
    "# The arrays which will hold the values for the proximate elements at that grid point.\n",
    "# For Customers\n",
    "N_C = np.zeros((gridpoints,gridpoints))\n",
    "# and for Providers\n",
    "N_P = np.zeros((gridpoints,gridpoints))\n",
    "\n",
    "# A matrix to store the ratio of providers per customer within the threshold distance of this gridpoint\n",
    "P_per_C = np.zeros((gridpoints,gridpoints))"
   ]
  },
  {
   "cell_type": "markdown",
   "metadata": {},
   "source": [
    "Define some functions for calculating distance.  This uses euclidian distance, though the arguement could be made for manhattan distance."
   ]
  },
  {
   "cell_type": "code",
   "execution_count": 39,
   "metadata": {
    "collapsed": true
   },
   "outputs": [],
   "source": [
    "def griddistance(row,x,y):\n",
    "    \"\"\" Calculate cartesian distance for a row with attributes, x and y \"\"\"\n",
    "    return np.sqrt((row.x-x)**2+(row.y-y)**2)\n",
    "\n",
    "def units_in_threshold(x, y ,A ,threshold):\n",
    "    \"\"\" For a pandas series, A, calculate the distance of all points from\n",
    "        given x,y coordinates, and return the number of values within a distance threshold\"\"\"\n",
    "    distance = A.apply(griddistance,args=(x,y),raw=True,axis=1)   \n",
    "    return (distance[distance<threshold].count() or 0)"
   ]
  },
  {
   "cell_type": "markdown",
   "metadata": {},
   "source": [
    "For each point in the grid, record the number of customers or providers within the threshold distance.  Also calculate the ratio of provider to customer where applicable.  I know there is a way to do this that is vectorized and more beautiful, but for clarity  I'm putting up with using loops."
   ]
  },
  {
   "cell_type": "code",
   "execution_count": 121,
   "metadata": {},
   "outputs": [],
   "source": [
    "threshold = 2\n",
    "\n",
    "if (xrange/gridpoints) > (threshold/2) or (yrange/gridpoints) > (threshold/2):\n",
    "    print(\"Warning, grid resolution is too low {},{} vs threshold {}\".format(xrange/gridpoints,yrange/gridpoints, threshold) )\n",
    "\n",
    "for i in range(gridpoints):\n",
    "    for j in range(gridpoints):\n",
    "        C_density = units_in_threshold(X[i, j], Y[i, j], C, threshold)\n",
    "        P_density = units_in_threshold(X[i, j], Y[i, j], P, threshold)\n",
    "\n",
    "        N_C[i,j]=C_density\n",
    "        N_P[i,j]=P_density\n",
    "        if C_density>0:\n",
    "            P_per_C[i,j] = P_density/C_density\n",
    "        else:\n",
    "            P_per_C[i,j] = np.nan"
   ]
  },
  {
   "cell_type": "markdown",
   "metadata": {},
   "source": [
    "Make some contour plots"
   ]
  },
  {
   "cell_type": "code",
   "execution_count": 122,
   "metadata": {},
   "outputs": [
    {
     "data": {
      "image/png": "[encoded data removed]",
      "text/plain": [
       "<matplotlib.figure.Figure at 0x22cd1a322b0>"
      ]
     },
     "metadata": {},
     "output_type": "display_data"
    }
   ],
   "source": [
    "\n",
    "f, axes = plt.subplots(1,3, sharex=True, sharey=True,  figsize=(15, 5)  )\n",
    "# First plot the Customer Density\n",
    "c1=axes[0].contourf(X, Y, N_C, \n",
    "                    cmap=cm.Reds, \n",
    "                   # norm=cm.colors.Normalize(vmax=N_C.max(), vmin=0)\n",
    "                   )\n",
    "axes[0].scatter(C.x,C.y, color='b')\n",
    "axes[0].set_title('Customer Density')\n",
    "plt.colorbar(c1,ax=axes[0])\n",
    "axes[0].tick_params(axis='both', left='off', top='off', right='off', bottom='off', labelleft='off', labeltop='off', labelright='off', labelbottom='off')\n",
    "\n",
    "# THen the Provider Density\n",
    "c2=axes[1].contourf(X, Y, N_P, \n",
    "                    cmap=cm.Blues, \n",
    "                   )\n",
    "axes[1].scatter(P.x,P.y, color='r' )\n",
    "axes[1].set_title('Provider Density')\n",
    "plt.colorbar(c2,ax=axes[1])\n",
    "axes[1].tick_params(axis='both', left='off', top='off', right='off', bottom='off', labelleft='off', labeltop='off', labelright='off', labelbottom='off')\n",
    "\n",
    "# Finally plot the shortfall of coverage at each location, based on the provider density\n",
    "target_P_per_C = 3\n",
    "c3=axes[2].contourf(X, Y, P_per_C-target_P_per_C, \n",
    "                    cmap=cm.RdYlGn, \n",
    "                    norm=cm.colors.Normalize(vmax=0, vmin=-target_P_per_C))\n",
    "axes[2].scatter(C.x,C.y, color='b',label='Customers')\n",
    "axes[2].scatter(P.x,P.y, color='r',label='Providers')\n",
    "axes[2].set_title('Provider/Customer - Target')\n",
    "plt.colorbar(c3,ax=axes[2])\n",
    "axes[2].tick_params(axis='both', left='off', top='off', right='off', bottom='off', labelleft='off', labeltop='off', labelright='off', labelbottom='off')\n"
   ]
  },
  {
   "cell_type": "markdown",
   "metadata": {},
   "source": [
    "The third chart shows one way of evaluating the coverage.  Areas which would not impact customers are null, and show as white.  Within those areas wich impact customers, the desnity of coverage is shown.\n",
    "\n",
    "One thing I don't love about this approach is that it only calculates the distance from the grid point to the provider, so you could have a situation where the distance from customer to provider is up to twice that of the threshold.  Also, if you have a customer who has sufficient providers to the north of them, it can indicate that providers are desirable to the south of them, even when this is not necessary."
   ]
  },
  {
   "cell_type": "markdown",
   "metadata": {},
   "source": [
    "## Visualizing customer coverage\n",
    "As an alternative, instead of simply combining the density of the providers and customers, we could create a score which tabulates the customer which dont have sufficient providers within their theshold for the customers within the threshold of the gridpoint.  This will give you the value of adding a provider at  given grid point, and can increase that value if it can benefit multiple customers.\n",
    "\n",
    "To do this, first, calculate the distance for every customer to every provider.  If you are working with a big data set, this should probably be precalculated, could potentially benefit from optimization.  For the purpose of demonstration I am simply cross joining the two sets, and applying the distance calculation to all combinations."
   ]
  },
  {
   "cell_type": "code",
   "execution_count": 123,
   "metadata": {},
   "outputs": [
    {
     "data": {
      "text/html": [
       "<div>\n",
       "<style>\n",
       "    .dataframe thead tr:only-child th {\n",
       "        text-align: right;\n",
       "    }\n",
       "\n",
       "    .dataframe thead th {\n",
       "        text-align: left;\n",
       "    }\n",
       "\n",
       "    .dataframe tbody tr th {\n",
       "        vertical-align: top;\n",
       "    }\n",
       "</style>\n",
       "<table border=\"1\" class=\"dataframe\">\n",
       "  <thead>\n",
       "    <tr style=\"text-align: right;\">\n",
       "      <th></th>\n",
       "      <th>nameC</th>\n",
       "      <th>xC</th>\n",
       "      <th>yC</th>\n",
       "      <th>key</th>\n",
       "      <th>nameP</th>\n",
       "      <th>xP</th>\n",
       "      <th>yP</th>\n",
       "      <th>distance</th>\n",
       "      <th>provider_count</th>\n",
       "    </tr>\n",
       "  </thead>\n",
       "  <tbody>\n",
       "    <tr>\n",
       "      <th>0</th>\n",
       "      <td>0</td>\n",
       "      <td>3.163295</td>\n",
       "      <td>3.5371</td>\n",
       "      <td>0</td>\n",
       "      <td>0</td>\n",
       "      <td>5.772868</td>\n",
       "      <td>9.809474</td>\n",
       "      <td>6.793566</td>\n",
       "      <td>0</td>\n",
       "    </tr>\n",
       "    <tr>\n",
       "      <th>1</th>\n",
       "      <td>0</td>\n",
       "      <td>3.163295</td>\n",
       "      <td>3.5371</td>\n",
       "      <td>0</td>\n",
       "      <td>1</td>\n",
       "      <td>6.368603</td>\n",
       "      <td>3.446142</td>\n",
       "      <td>3.206598</td>\n",
       "      <td>0</td>\n",
       "    </tr>\n",
       "    <tr>\n",
       "      <th>2</th>\n",
       "      <td>0</td>\n",
       "      <td>3.163295</td>\n",
       "      <td>3.5371</td>\n",
       "      <td>0</td>\n",
       "      <td>2</td>\n",
       "      <td>3.038311</td>\n",
       "      <td>1.164073</td>\n",
       "      <td>2.376316</td>\n",
       "      <td>0</td>\n",
       "    </tr>\n",
       "    <tr>\n",
       "      <th>3</th>\n",
       "      <td>0</td>\n",
       "      <td>3.163295</td>\n",
       "      <td>3.5371</td>\n",
       "      <td>0</td>\n",
       "      <td>3</td>\n",
       "      <td>1.636851</td>\n",
       "      <td>6.504074</td>\n",
       "      <td>3.336610</td>\n",
       "      <td>0</td>\n",
       "    </tr>\n",
       "    <tr>\n",
       "      <th>4</th>\n",
       "      <td>0</td>\n",
       "      <td>3.163295</td>\n",
       "      <td>3.5371</td>\n",
       "      <td>0</td>\n",
       "      <td>4</td>\n",
       "      <td>2.226109</td>\n",
       "      <td>5.411211</td>\n",
       "      <td>2.095379</td>\n",
       "      <td>0</td>\n",
       "    </tr>\n",
       "  </tbody>\n",
       "</table>\n",
       "</div>"
      ],
      "text/plain": [
       "   nameC        xC      yC  key  nameP        xP        yP  distance  \\\n",
       "0      0  3.163295  3.5371    0      0  5.772868  9.809474  6.793566   \n",
       "1      0  3.163295  3.5371    0      1  6.368603  3.446142  3.206598   \n",
       "2      0  3.163295  3.5371    0      2  3.038311  1.164073  2.376316   \n",
       "3      0  3.163295  3.5371    0      3  1.636851  6.504074  3.336610   \n",
       "4      0  3.163295  3.5371    0      4  2.226109  5.411211  2.095379   \n",
       "\n",
       "   provider_count  \n",
       "0               0  \n",
       "1               0  \n",
       "2               0  \n",
       "3               0  \n",
       "4               0  "
      ]
     },
     "execution_count": 123,
     "metadata": {},
     "output_type": "execute_result"
    }
   ],
   "source": [
    "# in order to get a cross join from our merge, we have to make a dummy key\n",
    "C.loc[:,'key']=0\n",
    "P.loc[:,'key']=0\n",
    "\n",
    "PC = C.merge(P, how='outer',on='key', suffixes=('C','P'))\n",
    "\n",
    "# Calculate the distance for each combination of customer and provider\n",
    "def rowdist(row):\n",
    "    return  np.sqrt((row.xC-row.xP)**2+(row.yC-row.yP)**2)\n",
    "PC.loc[:,'distance'] = PC.apply(rowdist, axis=1)\n",
    "\n",
    "# Calculate if the provider is within the threshold distance\n",
    "PC.loc[:,'provider_count'] = (PC.distance<threshold).astype(int)\n",
    "\n",
    "PC.head()"
   ]
  },
  {
   "cell_type": "markdown",
   "metadata": {},
   "source": [
    "Once you have calculated the distance between each customer and provider, summarize the number of providers available to that customer."
   ]
  },
  {
   "cell_type": "code",
   "execution_count": 124,
   "metadata": {},
   "outputs": [
    {
     "data": {
      "text/html": [
       "<div>\n",
       "<style>\n",
       "    .dataframe thead tr:only-child th {\n",
       "        text-align: right;\n",
       "    }\n",
       "\n",
       "    .dataframe thead th {\n",
       "        text-align: left;\n",
       "    }\n",
       "\n",
       "    .dataframe tbody tr th {\n",
       "        vertical-align: top;\n",
       "    }\n",
       "</style>\n",
       "<table border=\"1\" class=\"dataframe\">\n",
       "  <thead>\n",
       "    <tr style=\"text-align: right;\">\n",
       "      <th></th>\n",
       "      <th>name</th>\n",
       "      <th>x</th>\n",
       "      <th>y</th>\n",
       "      <th>key</th>\n",
       "      <th>provider_count</th>\n",
       "    </tr>\n",
       "  </thead>\n",
       "  <tbody>\n",
       "    <tr>\n",
       "      <th>0</th>\n",
       "      <td>0</td>\n",
       "      <td>3.163295</td>\n",
       "      <td>3.537100</td>\n",
       "      <td>0</td>\n",
       "      <td>2</td>\n",
       "    </tr>\n",
       "    <tr>\n",
       "      <th>1</th>\n",
       "      <td>1</td>\n",
       "      <td>3.533921</td>\n",
       "      <td>1.471155</td>\n",
       "      <td>0</td>\n",
       "      <td>4</td>\n",
       "    </tr>\n",
       "    <tr>\n",
       "      <th>2</th>\n",
       "      <td>2</td>\n",
       "      <td>3.756294</td>\n",
       "      <td>2.340282</td>\n",
       "      <td>0</td>\n",
       "      <td>4</td>\n",
       "    </tr>\n",
       "    <tr>\n",
       "      <th>3</th>\n",
       "      <td>3</td>\n",
       "      <td>6.698368</td>\n",
       "      <td>4.051499</td>\n",
       "      <td>0</td>\n",
       "      <td>3</td>\n",
       "    </tr>\n",
       "    <tr>\n",
       "      <th>4</th>\n",
       "      <td>4</td>\n",
       "      <td>0.864397</td>\n",
       "      <td>1.279402</td>\n",
       "      <td>0</td>\n",
       "      <td>3</td>\n",
       "    </tr>\n",
       "    <tr>\n",
       "      <th>5</th>\n",
       "      <td>5</td>\n",
       "      <td>9.790715</td>\n",
       "      <td>0.200366</td>\n",
       "      <td>0</td>\n",
       "      <td>3</td>\n",
       "    </tr>\n",
       "    <tr>\n",
       "      <th>6</th>\n",
       "      <td>6</td>\n",
       "      <td>0.968253</td>\n",
       "      <td>9.067043</td>\n",
       "      <td>0</td>\n",
       "      <td>0</td>\n",
       "    </tr>\n",
       "    <tr>\n",
       "      <th>7</th>\n",
       "      <td>7</td>\n",
       "      <td>3.870891</td>\n",
       "      <td>8.088960</td>\n",
       "      <td>0</td>\n",
       "      <td>2</td>\n",
       "    </tr>\n",
       "    <tr>\n",
       "      <th>8</th>\n",
       "      <td>8</td>\n",
       "      <td>2.533923</td>\n",
       "      <td>7.765609</td>\n",
       "      <td>0</td>\n",
       "      <td>2</td>\n",
       "    </tr>\n",
       "    <tr>\n",
       "      <th>9</th>\n",
       "      <td>9</td>\n",
       "      <td>5.946741</td>\n",
       "      <td>5.293583</td>\n",
       "      <td>0</td>\n",
       "      <td>3</td>\n",
       "    </tr>\n",
       "  </tbody>\n",
       "</table>\n",
       "</div>"
      ],
      "text/plain": [
       "   name         x         y  key  provider_count\n",
       "0     0  3.163295  3.537100    0               2\n",
       "1     1  3.533921  1.471155    0               4\n",
       "2     2  3.756294  2.340282    0               4\n",
       "3     3  6.698368  4.051499    0               3\n",
       "4     4  0.864397  1.279402    0               3\n",
       "5     5  9.790715  0.200366    0               3\n",
       "6     6  0.968253  9.067043    0               0\n",
       "7     7  3.870891  8.088960    0               2\n",
       "8     8  2.533923  7.765609    0               2\n",
       "9     9  5.946741  5.293583    0               3"
      ]
     },
     "execution_count": 124,
     "metadata": {},
     "output_type": "execute_result"
    }
   ],
   "source": [
    "newC = C.copy().set_index('name')\n",
    "newC = C.join(PC.groupby('nameC').provider_count.sum().to_frame())\n",
    "newC"
   ]
  },
  {
   "cell_type": "markdown",
   "metadata": {},
   "source": [
    "Now for each gridpoint, calculate the number of customers which could use a provider in this location.  You can also calculate the number of customers impacted at each gridpoint, to understand the value of different locations."
   ]
  },
  {
   "cell_type": "code",
   "execution_count": 128,
   "metadata": {},
   "outputs": [],
   "source": [
    "def customers_in_threshold(x, y ,A ,threshold):\n",
    "    \"\"\" For a pandas series, A, calculate the distance of all points from\n",
    "        given x,y coordinates, and return the customers withnin that distance\"\"\"\n",
    "    distance = A.apply(griddistance,args=(x,y),raw=True,axis=1)   \n",
    "    return A[distance<threshold]"
   ]
  },
  {
   "cell_type": "code",
   "execution_count": 129,
   "metadata": {},
   "outputs": [],
   "source": [
    "Customers_impacted = np.zeros((gridpoints,gridpoints))\n",
    "Customers_shortfall = np.zeros((gridpoints,gridpoints))\n",
    "\n",
    "for i in range(gridpoints):\n",
    "    for j in range(gridpoints):\n",
    "        if N_C[i,j]>0:\n",
    "            S = customers_in_threshold(X[i, j], Y[i, j],newC ,threshold)\n",
    "            #print(S[S.provider_count<target_P_per_C].name.count())\n",
    "            Customers_impacted[i, j] = (S.provider_count).count()\n",
    "            Customers_shortfall[i, j] = (S[S.provider_count<target_P_per_C].provider_count).count()\n",
    "        else:\n",
    "            Customers_impacted[i, j] = np.nan\n",
    "            Customers_shortfall[i, j] = np.nan"
   ]
  },
  {
   "cell_type": "markdown",
   "metadata": {},
   "source": [
    "Make the plots"
   ]
  },
  {
   "cell_type": "code",
   "execution_count": 130,
   "metadata": {},
   "outputs": [
    {
     "data": {
      "image/png": "[encoded data removed]",
      "text/plain": [
       "<matplotlib.figure.Figure at 0x22cd1ba2518>"
      ]
     },
     "metadata": {},
     "output_type": "display_data"
    }
   ],
   "source": [
    "f, axes = plt.subplots(1,2, sharex=True, sharey=True,  figsize=(18, 6)  )\n",
    "c1=axes[0].contourf(X, Y, Customers_impacted, \n",
    "                    cmap=cm.Reds)\n",
    "axes[0].scatter(C.x,C.y, color='b',label='Customers')\n",
    "axes[0].scatter(P.x,P.y, color='r',label='Providers')\n",
    "axes[0].set_title('Customers within Range')\n",
    "plt.colorbar(c1,ax=axes[0])\n",
    "axes[0].legend()\n",
    "axes[0].tick_params(axis='both', left='off', top='off', right='off', bottom='off', labelleft='off', labeltop='off', labelright='off', labelbottom='off')\n",
    "\n",
    "c2=axes[1].contourf(X, Y, Customers_shortfall, \n",
    "                    cmap=cm.viridis,\n",
    "                    norm=cm.colors.Normalize( vmin=0))\n",
    "axes[1].scatter(C.x,C.y, color='b',label='Customers')\n",
    "axes[1].scatter(P.x,P.y, color='r',label='Providers')\n",
    "axes[1].set_title('Customers with less than Target Providers')\n",
    "plt.colorbar(c2,ax=axes[1])\n",
    "axes[1].legend()\n",
    "axes[1].tick_params(axis='both', left='off', top='off', right='off', bottom='off', labelleft='off', labeltop='off', labelright='off', labelbottom='off')\n",
    "\n"
   ]
  },
  {
   "cell_type": "code",
   "execution_count": null,
   "metadata": {
    "collapsed": true
   },
   "outputs": [],
   "source": []
  }
 ],
 "metadata": {
  "kernelspec": {
   "display_name": "Python 3",
   "language": "python",
   "name": "python3"
  }
 },
 "nbformat": 4,
 "nbformat_minor": 2
}
